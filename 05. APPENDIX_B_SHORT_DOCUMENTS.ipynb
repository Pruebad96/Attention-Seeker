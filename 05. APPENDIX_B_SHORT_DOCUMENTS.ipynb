{
 "cells": [
  {
   "cell_type": "code",
   "execution_count": 1,
   "metadata": {},
   "outputs": [
    {
     "name": "stderr",
     "output_type": "stream",
     "text": [
      "c:\\Users\\user0\\anaconda3\\envs\\LLM_ENV\\Lib\\site-packages\\tqdm\\auto.py:21: TqdmWarning: IProgress not found. Please update jupyter and ipywidgets. See https://ipywidgets.readthedocs.io/en/stable/user_install.html\n",
      "  from .autonotebook import tqdm as notebook_tqdm\n"
     ]
    }
   ],
   "source": [
    "import re\n",
    "import json\n",
    "import argparse\n",
    "import os\n",
    "import sys\n",
    "import torch\n",
    "import pandas as pd\n",
    "import numpy as np\n",
    "\n",
    "from tqdm import tqdm\n",
    "from nltk.stem import PorterStemmer\n",
    "# from transformers import GPT2Tokenizer, GPT2Model\n",
    "from transformers import AutoTokenizer, AutoModelForCausalLM\n",
    "from huggingface_hub import login\n",
    "\n",
    "from swisscom_ai.research_keyphrase.preprocessing.postagging import PosTaggingCoreNLP\n",
    "from swisscom_ai.research_keyphrase.model.input_representation import InputTextObj\n",
    "from swisscom_ai.research_keyphrase.model.extractor import extract_candidates"
   ]
  },
  {
   "cell_type": "code",
   "execution_count": 2,
   "metadata": {},
   "outputs": [],
   "source": [
    "host = 'localhost'\n",
    "port = 9005\n",
    "pos_tagger = PosTaggingCoreNLP(host, port)\n",
    "\n",
    "# load stopwords\n",
    "stopwords = []\n",
    "with open('UGIR_stopwords.txt', \"r\") as f:\n",
    "    for line in f:\n",
    "        if line:\n",
    "            stopwords.append(line.replace('\\n', ''))\n",
    "\n",
    "stemmer = PorterStemmer()\n",
    "\n",
    "def read_jsonl(path):\n",
    "    data = []\n",
    "    with open(path, 'r') as f:\n",
    "        for line in f:\n",
    "            item = json.loads(line.strip())\n",
    "            data.append(item)\n",
    "    return data"
   ]
  },
  {
   "cell_type": "code",
   "execution_count": 3,
   "metadata": {},
   "outputs": [],
   "source": [
    "def get_candidates(core_nlp, text):\n",
    "    tagged = core_nlp.pos_tag_raw_text(text)\n",
    "    text_obj = InputTextObj(tagged, 'en')\n",
    "    candidates = extract_candidates(text_obj)\n",
    "    return candidates\n",
    "\n",
    "def get_phrase_indices(text_tokens, phrase, prefix):\n",
    "    text_tokens = [t.replace(prefix, '') for t in text_tokens]\n",
    "\n",
    "    phrase = phrase.replace(' ', '')\n",
    "\n",
    "    matched_indices = []\n",
    "    matched_index = []\n",
    "    target = phrase\n",
    "    for i in range(len(text_tokens)):\n",
    "        cur_token = text_tokens[i]\n",
    "        sub_len = min(len(cur_token), len(phrase))\n",
    "        if cur_token[:sub_len].lower() == target[:sub_len]:\n",
    "            matched_index.append(i)\n",
    "            target = target[sub_len:]\n",
    "            if len(target) == 0:\n",
    "                matched_indices.append([matched_index[0], matched_index[-1] + 1])\n",
    "                target = phrase\n",
    "        else:\n",
    "            matched_index = []\n",
    "            target = phrase\n",
    "            if cur_token[:sub_len].lower() == target[:sub_len]:\n",
    "                matched_index.append(i)\n",
    "                target = target[sub_len:]\n",
    "                if len(target) == 0:\n",
    "                    matched_indices.append([matched_index[0], matched_index[-1] + 1])\n",
    "                    target = phrase\n",
    "\n",
    "    return matched_indices\n",
    "\n",
    "def remove_repeated_sub_word(candidates_pos_dict):\n",
    "    for phrase in candidates_pos_dict.keys():\n",
    "        split_phrase = re.split(r'\\s+|-', phrase)\n",
    "        split_phrase = list(filter(None, split_phrase))\n",
    "        if len(split_phrase) > 1:\n",
    "            for word in split_phrase:\n",
    "                if word in candidates_pos_dict:\n",
    "                    single_word_positions = candidates_pos_dict[word]\n",
    "                    phrase_positions = candidates_pos_dict[phrase]\n",
    "                    single_word_alone_positions = [pos for pos in single_word_positions if not any(\n",
    "                        pos[0] >= phrase_pos[0] and pos[1] <= phrase_pos[1] for phrase_pos in phrase_positions)]\n",
    "                    candidates_pos_dict[word] = single_word_alone_positions\n",
    "\n",
    "    return candidates_pos_dict\n",
    "\n",
    "def get_all_indices(candidates_pos_dict, window_end):\n",
    "    all_indices = []\n",
    "    for phrase in candidates_pos_dict.values():\n",
    "        for element in phrase:\n",
    "            start_index = element[0]\n",
    "            end_index = element[1]\n",
    "            if(start_index>window_end):\n",
    "                all_indices.extend(range(start_index, end_index))\n",
    "    all_indices = sorted(all_indices)\n",
    "    all_indices = list(dict.fromkeys(all_indices))\n",
    "\n",
    "    return all_indices\n",
    "\n",
    "def aggregate_phrase_scores(index_list, tokens_scores):\n",
    "    total_score = 0.0\n",
    "\n",
    "    for p_index in index_list:\n",
    "        part_sum = tokens_scores[p_index[0]:p_index[1]].sum()\n",
    "        total_score += part_sum\n",
    "\n",
    "    return total_score\n",
    "\n",
    "def get_score_full(candidates, references, maxDepth=15):\n",
    "    precision = []\n",
    "    recall = []\n",
    "    reference_set = set(references)\n",
    "    referencelen = len(reference_set)\n",
    "    true_positive = 0\n",
    "    for i in range(maxDepth):\n",
    "        if len(candidates) > i:\n",
    "            kp_pred = candidates[i]\n",
    "            if kp_pred in reference_set:\n",
    "                true_positive += 1\n",
    "            precision.append(true_positive / float(i + 1))\n",
    "            recall.append(true_positive / float(referencelen))\n",
    "        else:\n",
    "            precision.append(true_positive / float(len(candidates)))\n",
    "            recall.append(true_positive / float(referencelen))\n",
    "    return precision, recall\n",
    "\n",
    "\n",
    "def evaluate_document(candidates, ground_truth):\n",
    "    results = {}\n",
    "    precision_scores, recall_scores, f1_scores = {5: [], 10: [], 15: []}, \\\n",
    "                                                 {5: [], 10: [], 15: []}, \\\n",
    "                                                 {5: [], 10: [], 15: []}\n",
    "    for candidate, gt in zip(candidates, ground_truth):\n",
    "        p, r = get_score_full(candidate, gt)\n",
    "        for i in [5, 10, 15]:\n",
    "            precision = p[i - 1]\n",
    "            recall = r[i - 1]\n",
    "            if precision + recall > 0:\n",
    "                f1_scores[i].append((2 * (precision * recall)) / (precision + recall))\n",
    "            else:\n",
    "                f1_scores[i].append(0)\n",
    "            precision_scores[i].append(precision)\n",
    "            recall_scores[i].append(recall)\n",
    "\n",
    "    print(\"########################\\nMetrics\")\n",
    "    for i in precision_scores:\n",
    "        print(\"@{}\".format(i))\n",
    "        print(\"F1:{}\".format(np.mean(f1_scores[i])))\n",
    "        print(\"P:{}\".format(np.mean(precision_scores[i])))\n",
    "        print(\"R:{}\".format(np.mean(recall_scores[i])))\n",
    "\n",
    "        top_n_p = 'precision@' + str(i)\n",
    "        top_n_r = 'recall@' + str(i)\n",
    "        top_n_f1 = 'f1@' + str(i)\n",
    "        results[top_n_p] = np.mean(precision_scores[i])\n",
    "        results[top_n_r] = np.mean(recall_scores[i])\n",
    "        results[top_n_f1] = np.mean(f1_scores[i])\n",
    "    print(\"#########################\")\n",
    "\n",
    "    return results\n",
    "\n",
    "def evaluate_dataset(predicted_top, dataset, score_type, dataset_name):\n",
    "    experiment_results = []\n",
    "    gt_keyphrase_list = []\n",
    "    predicted_keyphrase_list = []\n",
    "\n",
    "    for i in range(len(dataset)):\n",
    "        predicted_keyphrase = predicted_top[i]\n",
    "        predicted_keyphrase = [phrase.lower() for phrase in predicted_keyphrase]\n",
    "        predicted_keyphrase_list.append(predicted_keyphrase)\n",
    "\n",
    "        gt_keyphrase = [key.lower() for key in dataset[i]['keyphrases']]\n",
    "        gt_keyphrase_list.append(gt_keyphrase)\n",
    "\n",
    "    total_score = evaluate_document(predicted_keyphrase_list, gt_keyphrase_list)\n",
    "    experiment_results.append(total_score)\n",
    "\n",
    "    df = pd.DataFrame(experiment_results)\n",
    "\n",
    "    path = f'experiment_results/{dataset_name}/'\n",
    "    os.makedirs(path, exist_ok=True)\n",
    "    df.to_csv(f'{path}score_type_{score_type}.csv', index=False)\n",
    "\n",
    "    top3_f1_5 = df.nlargest(3, 'f1@5').reset_index(drop=True)\n",
    "    top3_f1_10 = df.nlargest(3, 'f1@10').reset_index(drop=True)\n",
    "    top3_f1_15 = df.nlargest(3, 'f1@15').reset_index(drop=True)\n",
    "\n",
    "    return top3_f1_5, top3_f1_10, top3_f1_15"
   ]
  },
  {
   "cell_type": "markdown",
   "metadata": {},
   "source": [
    "<img src=\"hugging_token.png\" width=1000px></img>"
   ]
  },
  {
   "cell_type": "code",
   "execution_count": 4,
   "metadata": {},
   "outputs": [
    {
     "name": "stdout",
     "output_type": "stream",
     "text": [
      "The token has not been saved to the git credentials helper. Pass `add_to_git_credential=True` in this function directly or `--add-to-git-credential` if using via `huggingface-cli` if you want to set the git credential as well.\n",
      "Token is valid (permission: read).\n",
      "Your token has been saved to C:\\Users\\user0\\.cache\\huggingface\\token\n",
      "Login successful\n"
     ]
    }
   ],
   "source": [
    "# You need to request permission to use the LLAMA 3 model with your Huggingface account\n",
    "login(token=\"YOUR_TOKEN_HERE\")"
   ]
  },
  {
   "cell_type": "code",
   "execution_count": 5,
   "metadata": {},
   "outputs": [
    {
     "name": "stderr",
     "output_type": "stream",
     "text": [
      "c:\\Users\\user0\\anaconda3\\envs\\LLM_ENV\\Lib\\site-packages\\huggingface_hub\\file_download.py:1132: FutureWarning: `resume_download` is deprecated and will be removed in version 1.0.0. Downloads always resume when possible. If you want to force a new download, use `force_download=True`.\n",
      "  warnings.warn(\n",
      "Special tokens have been added in the vocabulary, make sure the associated word embeddings are fine-tuned or trained.\n",
      "Loading checkpoint shards: 100%|██████████| 4/4 [00:37<00:00,  9.39s/it]\n",
      "c:\\Users\\user0\\anaconda3\\envs\\LLM_ENV\\Lib\\site-packages\\huggingface_hub\\file_download.py:1132: FutureWarning: `resume_download` is deprecated and will be removed in version 1.0.0. Downloads always resume when possible. If you want to force a new download, use `force_download=True`.\n",
      "  warnings.warn(\n"
     ]
    }
   ],
   "source": [
    "tokenizer = AutoTokenizer.from_pretrained(\"meta-llama/Meta-Llama-3-8B\")\n",
    "model = AutoModelForCausalLM.from_pretrained(\"meta-llama/Meta-Llama-3-8B\", attn_implementation=\"eager\", output_attentions=True)\n",
    "prefix = 'Ġ'"
   ]
  },
  {
   "cell_type": "code",
   "execution_count": 6,
   "metadata": {},
   "outputs": [
    {
     "name": "stdout",
     "output_type": "stream",
     "text": [
      "device: cuda\n"
     ]
    }
   ],
   "source": [
    "device = \"cuda\" if torch.cuda.is_available() else \"cpu\"\n",
    "print(f\"device: {device}\")"
   ]
  },
  {
   "cell_type": "markdown",
   "metadata": {},
   "source": [
    "<h2>DATASET: INSPEC</h2>"
   ]
  },
  {
   "cell_type": "code",
   "execution_count": 7,
   "metadata": {},
   "outputs": [],
   "source": [
    "dataset_name = \"inspec\"\n",
    "dataset = read_jsonl(\"KEYWORD_DATA/{}.jsonl\".format(dataset_name))"
   ]
  },
  {
   "cell_type": "markdown",
   "metadata": {},
   "source": [
    "NON-PARAMETRIC SAMRANK GLOBAL SCORE"
   ]
  },
  {
   "cell_type": "code",
   "execution_count": 20,
   "metadata": {},
   "outputs": [
    {
     "name": "stderr",
     "output_type": "stream",
     "text": [
      "  0%|          | 0/500 [00:00<?, ?it/s]"
     ]
    },
    {
     "name": "stderr",
     "output_type": "stream",
     "text": [
      "100%|██████████| 500/500 [01:47<00:00,  4.65it/s]"
     ]
    },
    {
     "name": "stdout",
     "output_type": "stream",
     "text": [
      "########################\n",
      "Metrics\n",
      "@5\n",
      "F1:0.3424774238136697\n",
      "P:0.4784\n",
      "R:0.29396447932697767\n",
      "@10\n",
      "F1:0.3818415536037738\n",
      "P:0.38055952380952385\n",
      "R:0.4318405058729329\n",
      "@15\n",
      "F1:0.381147979499465\n",
      "P:0.32708260073260065\n",
      "R:0.5150753282616488\n",
      "#########################\n"
     ]
    },
    {
     "name": "stderr",
     "output_type": "stream",
     "text": [
      "\n"
     ]
    }
   ],
   "source": [
    "model.to(device)\n",
    "model.eval()\n",
    "\n",
    "dataset_att_scores_overall = []\n",
    "\n",
    "for data in tqdm(dataset):\n",
    "    with torch.no_grad():\n",
    "        input_text = data[\"text\"]\n",
    "\n",
    "        tokenized_content = tokenizer(input_text, return_tensors='pt')\n",
    "        outputs = model(**tokenized_content.to(device))\n",
    "        content_tokens = tokenizer.convert_ids_to_tokens(tokenized_content['input_ids'].squeeze(0))\n",
    "\n",
    "        attentions = outputs.attentions\n",
    "        del outputs\n",
    "\n",
    "        candidates = get_candidates(pos_tagger, input_text)\n",
    "        candidates = [phrase for phrase in candidates if phrase.split(' ')[0] not in stopwords]\n",
    "        candidates_indices = {}\n",
    "        for phrase in candidates:\n",
    "            matched_indices = get_phrase_indices(content_tokens, phrase, prefix)\n",
    "            if len(matched_indices) == 0:\n",
    "                continue\n",
    "            candidates_indices[phrase] = matched_indices\n",
    "        candidates_indices = remove_repeated_sub_word(candidates_indices)\n",
    "\n",
    "        ###############################################################\n",
    "        SAM_attentions = sum(attentions)/len(attentions)\n",
    "        SAM_attentions = SAM_attentions.squeeze(0)\n",
    "        SAM_attentions =  SAM_attentions.mean(0)\n",
    "        # GLOBAL SCORE\n",
    "        att_scores = SAM_attentions.sum(0)\n",
    "        att_scores[0] = 0\n",
    "        ###############################################################\n",
    "\n",
    "        phrase_score_dict = {}\n",
    "        for phrase in candidates_indices.keys():\n",
    "            try:\n",
    "                phrase_indices = candidates_indices[phrase]\n",
    "                if len(phrase_indices) == 0:\n",
    "                    continue\n",
    "            except KeyError:\n",
    "                continue\n",
    "\n",
    "            final_phrase_score = aggregate_phrase_scores(phrase_indices, att_scores)\n",
    "\n",
    "            if len(phrase.split()) == 1:\n",
    "                final_phrase_score = final_phrase_score / len(phrase_indices)\n",
    "            phrase_score_dict[phrase] = final_phrase_score\n",
    "\n",
    "    sorted_scores_att_o_s = sorted(phrase_score_dict.items(), key=lambda item: item[1], reverse=True)\n",
    "    stemmed_sorted_scores_att_o_s = [(\" \".join(stemmer.stem(word) for word in phrase.split()), score) for\n",
    "                                phrase, score in sorted_scores_att_o_s]\n",
    "\n",
    "    set_stemmed_scores_list_att_o_s = []\n",
    "    for phrase, score in stemmed_sorted_scores_att_o_s:\n",
    "        if phrase not in set_stemmed_scores_list_att_o_s:\n",
    "            set_stemmed_scores_list_att_o_s.append(phrase)\n",
    "\n",
    "    pred_stemmed_phrases_att_o_s = set_stemmed_scores_list_att_o_s[:15]\n",
    "    dataset_att_scores_overall.append(pred_stemmed_phrases_att_o_s)\n",
    "\n",
    "att_o_s_top3_f1_5, att_o_s_top3_f1_10, att_o_s_top3_f1_15 = evaluate_dataset(dataset_att_scores_overall, dataset, \"SAMRANK_G\", dataset_name)"
   ]
  },
  {
   "cell_type": "markdown",
   "metadata": {},
   "source": [
    "NON-PARAMETRIC SAMRANK PROPORTIONAL SCORE"
   ]
  },
  {
   "cell_type": "code",
   "execution_count": 21,
   "metadata": {},
   "outputs": [
    {
     "name": "stderr",
     "output_type": "stream",
     "text": [
      "100%|██████████| 500/500 [01:48<00:00,  4.60it/s]"
     ]
    },
    {
     "name": "stdout",
     "output_type": "stream",
     "text": [
      "########################\n",
      "Metrics\n",
      "@5\n",
      "F1:0.2721482730516293\n",
      "P:0.3808000000000001\n",
      "R:0.23453125772152897\n",
      "@10\n",
      "F1:0.33814615872062653\n",
      "P:0.33435952380952383\n",
      "R:0.3876773679052485\n",
      "@15\n",
      "F1:0.35201269206715996\n",
      "P:0.3013492673992674\n",
      "R:0.4801173656224672\n",
      "#########################\n"
     ]
    },
    {
     "name": "stderr",
     "output_type": "stream",
     "text": [
      "\n"
     ]
    }
   ],
   "source": [
    "model.to(device)\n",
    "model.eval()\n",
    "\n",
    "dataset_att_scores_overall = []\n",
    "\n",
    "for data in tqdm(dataset):\n",
    "    with torch.no_grad():\n",
    "        input_text = data[\"text\"]\n",
    "\n",
    "        tokenized_content = tokenizer(input_text, return_tensors='pt')\n",
    "        outputs = model(**tokenized_content.to(device))\n",
    "        content_tokens = tokenizer.convert_ids_to_tokens(tokenized_content['input_ids'].squeeze(0))\n",
    "\n",
    "        attentions = outputs.attentions\n",
    "        del outputs\n",
    "\n",
    "        candidates = get_candidates(pos_tagger, input_text)\n",
    "        candidates = [phrase for phrase in candidates if phrase.split(' ')[0] not in stopwords]\n",
    "        candidates_indices = {}\n",
    "        for phrase in candidates:\n",
    "            matched_indices = get_phrase_indices(content_tokens, phrase, prefix)\n",
    "            if len(matched_indices) == 0:\n",
    "                continue\n",
    "            candidates_indices[phrase] = matched_indices\n",
    "        candidates_indices = remove_repeated_sub_word(candidates_indices)\n",
    "\n",
    "        ###############################################################\n",
    "        SAM_attentions = sum(attentions)/len(attentions)\n",
    "        SAM_attentions = SAM_attentions.squeeze(0)\n",
    "        SAM_attentions =  SAM_attentions.mean(0)\n",
    "        # PROPORTIONAL SCORE\n",
    "        SAM_attentions_sum = SAM_attentions.sum(0, keepdim=True)\n",
    "        SAM_attentions_sum += 1e-10\n",
    "        SAM_attentions_norm = SAM_attentions / SAM_attentions_sum\n",
    "        SAM_attentions_norm[:,0] = 0\n",
    "        p_att_scores = SAM_attentions_norm.sum(1)\n",
    "        ###############################################################\n",
    "\n",
    "        phrase_score_dict = {}\n",
    "        for phrase in candidates_indices.keys():\n",
    "            try:\n",
    "                phrase_indices = candidates_indices[phrase]\n",
    "                if len(phrase_indices) == 0:\n",
    "                    continue\n",
    "            except KeyError:\n",
    "                continue\n",
    "\n",
    "            final_phrase_score = aggregate_phrase_scores(phrase_indices, p_att_scores)\n",
    "\n",
    "            if len(phrase.split()) == 1:\n",
    "                final_phrase_score = final_phrase_score / len(phrase_indices)\n",
    "            phrase_score_dict[phrase] = final_phrase_score\n",
    "\n",
    "    sorted_scores_att_o_s = sorted(phrase_score_dict.items(), key=lambda item: item[1], reverse=True)\n",
    "    stemmed_sorted_scores_att_o_s = [(\" \".join(stemmer.stem(word) for word in phrase.split()), score) for\n",
    "                                phrase, score in sorted_scores_att_o_s]\n",
    "\n",
    "    set_stemmed_scores_list_att_o_s = []\n",
    "    for phrase, score in stemmed_sorted_scores_att_o_s:\n",
    "        if phrase not in set_stemmed_scores_list_att_o_s:\n",
    "            set_stemmed_scores_list_att_o_s.append(phrase)\n",
    "\n",
    "    pred_stemmed_phrases_att_o_s = set_stemmed_scores_list_att_o_s[:15]\n",
    "    dataset_att_scores_overall.append(pred_stemmed_phrases_att_o_s)\n",
    "\n",
    "att_o_s_top3_f1_5, att_o_s_top3_f1_10, att_o_s_top3_f1_15 = evaluate_dataset(dataset_att_scores_overall, dataset, \"SAMRANK_P\", dataset_name)"
   ]
  },
  {
   "cell_type": "markdown",
   "metadata": {},
   "source": [
    "NON-PARAMETRIC SAMRANK"
   ]
  },
  {
   "cell_type": "code",
   "execution_count": 22,
   "metadata": {},
   "outputs": [
    {
     "name": "stderr",
     "output_type": "stream",
     "text": [
      "100%|██████████| 500/500 [01:48<00:00,  4.60it/s]"
     ]
    },
    {
     "name": "stdout",
     "output_type": "stream",
     "text": [
      "########################\n",
      "Metrics\n",
      "@5\n",
      "F1:0.3022501132639339\n",
      "P:0.4184\n",
      "R:0.2623946300844975\n",
      "@10\n",
      "F1:0.3661981308614249\n",
      "P:0.3623595238095238\n",
      "R:0.41878231736717736\n",
      "@15\n",
      "F1:0.3807905333287372\n",
      "P:0.32641593406593405\n",
      "R:0.5171797052379028\n",
      "#########################\n"
     ]
    },
    {
     "name": "stderr",
     "output_type": "stream",
     "text": [
      "\n"
     ]
    }
   ],
   "source": [
    "model.to(device)\n",
    "model.eval()\n",
    "\n",
    "dataset_att_scores_overall = []\n",
    "\n",
    "for data in tqdm(dataset):\n",
    "    with torch.no_grad():\n",
    "        input_text = data[\"text\"]\n",
    "\n",
    "        tokenized_content = tokenizer(input_text, return_tensors='pt')\n",
    "        outputs = model(**tokenized_content.to(device))\n",
    "        content_tokens = tokenizer.convert_ids_to_tokens(tokenized_content['input_ids'].squeeze(0))\n",
    "\n",
    "        attentions = outputs.attentions\n",
    "        del outputs\n",
    "\n",
    "        candidates = get_candidates(pos_tagger, input_text)\n",
    "        candidates = [phrase for phrase in candidates if phrase.split(' ')[0] not in stopwords]\n",
    "        candidates_indices = {}\n",
    "        for phrase in candidates:\n",
    "            matched_indices = get_phrase_indices(content_tokens, phrase, prefix)\n",
    "            if len(matched_indices) == 0:\n",
    "                continue\n",
    "            candidates_indices[phrase] = matched_indices\n",
    "        candidates_indices = remove_repeated_sub_word(candidates_indices)\n",
    "\n",
    "        ###############################################################\n",
    "        SAM_attentions = sum(attentions)/len(attentions)\n",
    "        SAM_attentions = SAM_attentions.squeeze(0)\n",
    "        SAM_attentions =  SAM_attentions.mean(0)\n",
    "        # GLOBAL SCORE\n",
    "        att_scores = SAM_attentions.sum(0)\n",
    "        att_scores[0] = 0\n",
    "        # PROPORTIONAL SCORE\n",
    "        SAM_attentions_sum = SAM_attentions.sum(0, keepdim=True)\n",
    "        SAM_attentions_sum += 1e-10\n",
    "        SAM_attentions_norm = SAM_attentions / SAM_attentions_sum\n",
    "        SAM_attentions_norm[:,0] = 0\n",
    "        p_att_scores = SAM_attentions_norm.sum(1)\n",
    "        # FINAL SCORE = GLOBAL SCORE + PROPORTIONAL SCORE\n",
    "        att_scores = att_scores + p_att_scores\n",
    "        ###############################################################\n",
    "\n",
    "        phrase_score_dict = {}\n",
    "        for phrase in candidates_indices.keys():\n",
    "            try:\n",
    "                phrase_indices = candidates_indices[phrase]\n",
    "                if len(phrase_indices) == 0:\n",
    "                    continue\n",
    "            except KeyError:\n",
    "                continue\n",
    "\n",
    "            final_phrase_score = aggregate_phrase_scores(phrase_indices, att_scores)\n",
    "\n",
    "            if len(phrase.split()) == 1:\n",
    "                final_phrase_score = final_phrase_score / len(phrase_indices)\n",
    "            phrase_score_dict[phrase] = final_phrase_score\n",
    "\n",
    "    sorted_scores_att_o_s = sorted(phrase_score_dict.items(), key=lambda item: item[1], reverse=True)\n",
    "    stemmed_sorted_scores_att_o_s = [(\" \".join(stemmer.stem(word) for word in phrase.split()), score) for\n",
    "                                phrase, score in sorted_scores_att_o_s]\n",
    "\n",
    "    set_stemmed_scores_list_att_o_s = []\n",
    "    for phrase, score in stemmed_sorted_scores_att_o_s:\n",
    "        if phrase not in set_stemmed_scores_list_att_o_s:\n",
    "            set_stemmed_scores_list_att_o_s.append(phrase)\n",
    "\n",
    "    pred_stemmed_phrases_att_o_s = set_stemmed_scores_list_att_o_s[:15]\n",
    "    dataset_att_scores_overall.append(pred_stemmed_phrases_att_o_s)\n",
    "\n",
    "att_o_s_top3_f1_5, att_o_s_top3_f1_10, att_o_s_top3_f1_15 = evaluate_dataset(dataset_att_scores_overall, dataset, \"SAMRANK_GP\", dataset_name)"
   ]
  },
  {
   "cell_type": "markdown",
   "metadata": {},
   "source": [
    "<h2>DATASET: SEMEVAL 2017</h2>"
   ]
  },
  {
   "cell_type": "code",
   "execution_count": 23,
   "metadata": {},
   "outputs": [],
   "source": [
    "dataset_name = \"semeval2017\"\n",
    "dataset = read_jsonl(\"KEYWORD_DATA/{}.jsonl\".format(dataset_name))"
   ]
  },
  {
   "cell_type": "markdown",
   "metadata": {},
   "source": [
    "NON-PARAMETRIC SAMRANK GLOBAL SCORE"
   ]
  },
  {
   "cell_type": "code",
   "execution_count": 24,
   "metadata": {},
   "outputs": [
    {
     "name": "stderr",
     "output_type": "stream",
     "text": [
      "100%|██████████| 493/493 [02:27<00:00,  3.34it/s]"
     ]
    },
    {
     "name": "stdout",
     "output_type": "stream",
     "text": [
      "########################\n",
      "Metrics\n",
      "@5\n",
      "F1:0.24742282955536773\n",
      "P:0.5168356997971603\n",
      "R:0.1700399499230244\n",
      "@10\n",
      "F1:0.3350504558633974\n",
      "P:0.4480730223123732\n",
      "R:0.2851300385057317\n",
      "@15\n",
      "F1:0.3701308557000764\n",
      "P:0.3989408495493688\n",
      "R:0.3718292969857578\n",
      "#########################\n"
     ]
    },
    {
     "name": "stderr",
     "output_type": "stream",
     "text": [
      "\n"
     ]
    }
   ],
   "source": [
    "model.to(device)\n",
    "model.eval()\n",
    "\n",
    "dataset_att_scores_overall = []\n",
    "\n",
    "for data in tqdm(dataset):\n",
    "    with torch.no_grad():\n",
    "        input_text = data[\"text\"]\n",
    "\n",
    "        tokenized_content = tokenizer(input_text, return_tensors='pt')\n",
    "        outputs = model(**tokenized_content.to(device))\n",
    "        content_tokens = tokenizer.convert_ids_to_tokens(tokenized_content['input_ids'].squeeze(0))\n",
    "\n",
    "        attentions = outputs.attentions\n",
    "        del outputs\n",
    "\n",
    "        candidates = get_candidates(pos_tagger, input_text)\n",
    "        candidates = [phrase for phrase in candidates if phrase.split(' ')[0] not in stopwords]\n",
    "        candidates_indices = {}\n",
    "        for phrase in candidates:\n",
    "            matched_indices = get_phrase_indices(content_tokens, phrase, prefix)\n",
    "            if len(matched_indices) == 0:\n",
    "                continue\n",
    "            candidates_indices[phrase] = matched_indices\n",
    "        candidates_indices = remove_repeated_sub_word(candidates_indices)\n",
    "\n",
    "        ###############################################################\n",
    "        SAM_attentions = sum(attentions)/len(attentions)\n",
    "        SAM_attentions = SAM_attentions.squeeze(0)\n",
    "        SAM_attentions =  SAM_attentions.mean(0)\n",
    "        # GLOBAL SCORE\n",
    "        att_scores = SAM_attentions.sum(0)\n",
    "        att_scores[0] = 0\n",
    "        ###############################################################\n",
    "\n",
    "        phrase_score_dict = {}\n",
    "        for phrase in candidates_indices.keys():\n",
    "            try:\n",
    "                phrase_indices = candidates_indices[phrase]\n",
    "                if len(phrase_indices) == 0:\n",
    "                    continue\n",
    "            except KeyError:\n",
    "                continue\n",
    "\n",
    "            final_phrase_score = aggregate_phrase_scores(phrase_indices, att_scores)\n",
    "\n",
    "            if len(phrase.split()) == 1:\n",
    "                final_phrase_score = final_phrase_score / len(phrase_indices)\n",
    "            phrase_score_dict[phrase] = final_phrase_score\n",
    "\n",
    "    sorted_scores_att_o_s = sorted(phrase_score_dict.items(), key=lambda item: item[1], reverse=True)\n",
    "    stemmed_sorted_scores_att_o_s = [(\" \".join(stemmer.stem(word) for word in phrase.split()), score) for\n",
    "                                phrase, score in sorted_scores_att_o_s]\n",
    "\n",
    "    set_stemmed_scores_list_att_o_s = []\n",
    "    for phrase, score in stemmed_sorted_scores_att_o_s:\n",
    "        if phrase not in set_stemmed_scores_list_att_o_s:\n",
    "            set_stemmed_scores_list_att_o_s.append(phrase)\n",
    "\n",
    "    pred_stemmed_phrases_att_o_s = set_stemmed_scores_list_att_o_s[:15]\n",
    "    dataset_att_scores_overall.append(pred_stemmed_phrases_att_o_s)\n",
    "\n",
    "att_o_s_top3_f1_5, att_o_s_top3_f1_10, att_o_s_top3_f1_15 = evaluate_dataset(dataset_att_scores_overall, dataset, \"SAMRANK_BASE\", dataset_name)"
   ]
  },
  {
   "cell_type": "markdown",
   "metadata": {},
   "source": [
    "NON-PARAMETRIC SAMRANK PROPORTIONAL SCORE"
   ]
  },
  {
   "cell_type": "code",
   "execution_count": 25,
   "metadata": {},
   "outputs": [
    {
     "name": "stderr",
     "output_type": "stream",
     "text": [
      "100%|██████████| 493/493 [02:27<00:00,  3.34it/s]"
     ]
    },
    {
     "name": "stdout",
     "output_type": "stream",
     "text": [
      "########################\n",
      "Metrics\n",
      "@5\n",
      "F1:0.2049017203260521\n",
      "P:0.43367139959432044\n",
      "R:0.1400276837728346\n",
      "@10\n",
      "F1:0.2889721151747988\n",
      "P:0.38864097363083167\n",
      "R:0.245192104654373\n",
      "@15\n",
      "F1:0.33011809928063457\n",
      "P:0.3562092741605926\n",
      "R:0.3312154760595461\n",
      "#########################\n"
     ]
    },
    {
     "name": "stderr",
     "output_type": "stream",
     "text": [
      "\n"
     ]
    }
   ],
   "source": [
    "model.to(device)\n",
    "model.eval()\n",
    "\n",
    "dataset_att_scores_overall = []\n",
    "\n",
    "for data in tqdm(dataset):\n",
    "    with torch.no_grad():\n",
    "        input_text = data[\"text\"]\n",
    "\n",
    "        tokenized_content = tokenizer(input_text, return_tensors='pt')\n",
    "        outputs = model(**tokenized_content.to(device))\n",
    "        content_tokens = tokenizer.convert_ids_to_tokens(tokenized_content['input_ids'].squeeze(0))\n",
    "\n",
    "        attentions = outputs.attentions\n",
    "        del outputs\n",
    "\n",
    "        candidates = get_candidates(pos_tagger, input_text)\n",
    "        candidates = [phrase for phrase in candidates if phrase.split(' ')[0] not in stopwords]\n",
    "        candidates_indices = {}\n",
    "        for phrase in candidates:\n",
    "            matched_indices = get_phrase_indices(content_tokens, phrase, prefix)\n",
    "            if len(matched_indices) == 0:\n",
    "                continue\n",
    "            candidates_indices[phrase] = matched_indices\n",
    "        candidates_indices = remove_repeated_sub_word(candidates_indices)\n",
    "\n",
    "        ###############################################################\n",
    "        SAM_attentions = sum(attentions)/len(attentions)\n",
    "        SAM_attentions = SAM_attentions.squeeze(0)\n",
    "        SAM_attentions =  SAM_attentions.mean(0)\n",
    "        # PROPORTIONAL SCORE\n",
    "        SAM_attentions_sum = SAM_attentions.sum(0, keepdim=True)\n",
    "        SAM_attentions_sum += 1e-10\n",
    "        SAM_attentions_norm = SAM_attentions / SAM_attentions_sum\n",
    "        SAM_attentions_norm[:,0] = 0\n",
    "        p_att_scores = SAM_attentions_norm.sum(1)\n",
    "        ###############################################################\n",
    "\n",
    "        phrase_score_dict = {}\n",
    "        for phrase in candidates_indices.keys():\n",
    "            try:\n",
    "                phrase_indices = candidates_indices[phrase]\n",
    "                if len(phrase_indices) == 0:\n",
    "                    continue\n",
    "            except KeyError:\n",
    "                continue\n",
    "\n",
    "            final_phrase_score = aggregate_phrase_scores(phrase_indices, p_att_scores)\n",
    "\n",
    "            if len(phrase.split()) == 1:\n",
    "                final_phrase_score = final_phrase_score / len(phrase_indices)\n",
    "            phrase_score_dict[phrase] = final_phrase_score\n",
    "\n",
    "    sorted_scores_att_o_s = sorted(phrase_score_dict.items(), key=lambda item: item[1], reverse=True)\n",
    "    stemmed_sorted_scores_att_o_s = [(\" \".join(stemmer.stem(word) for word in phrase.split()), score) for\n",
    "                                phrase, score in sorted_scores_att_o_s]\n",
    "\n",
    "    set_stemmed_scores_list_att_o_s = []\n",
    "    for phrase, score in stemmed_sorted_scores_att_o_s:\n",
    "        if phrase not in set_stemmed_scores_list_att_o_s:\n",
    "            set_stemmed_scores_list_att_o_s.append(phrase)\n",
    "\n",
    "    pred_stemmed_phrases_att_o_s = set_stemmed_scores_list_att_o_s[:15]\n",
    "    dataset_att_scores_overall.append(pred_stemmed_phrases_att_o_s)\n",
    "\n",
    "att_o_s_top3_f1_5, att_o_s_top3_f1_10, att_o_s_top3_f1_15 = evaluate_dataset(dataset_att_scores_overall, dataset, \"SAMRANK_P\", dataset_name)"
   ]
  },
  {
   "cell_type": "markdown",
   "metadata": {},
   "source": [
    "NON-PARAMETRIC SAMRANK"
   ]
  },
  {
   "cell_type": "code",
   "execution_count": 26,
   "metadata": {},
   "outputs": [
    {
     "name": "stderr",
     "output_type": "stream",
     "text": [
      "100%|██████████| 493/493 [02:27<00:00,  3.34it/s]"
     ]
    },
    {
     "name": "stdout",
     "output_type": "stream",
     "text": [
      "########################\n",
      "Metrics\n",
      "@5\n",
      "F1:0.21946619814336343\n",
      "P:0.46612576064908723\n",
      "R:0.14962849916468282\n",
      "@10\n",
      "F1:0.3182924206296046\n",
      "P:0.4257606490872211\n",
      "R:0.2705589492135953\n",
      "@15\n",
      "F1:0.3538880668092154\n",
      "P:0.38136140397803686\n",
      "R:0.35485922245992974\n",
      "#########################\n"
     ]
    },
    {
     "name": "stderr",
     "output_type": "stream",
     "text": [
      "\n"
     ]
    }
   ],
   "source": [
    "model.to(device)\n",
    "model.eval()\n",
    "\n",
    "dataset_att_scores_overall = []\n",
    "\n",
    "for data in tqdm(dataset):\n",
    "    with torch.no_grad():\n",
    "        input_text = data[\"text\"]\n",
    "\n",
    "        tokenized_content = tokenizer(input_text, return_tensors='pt')\n",
    "        outputs = model(**tokenized_content.to(device))\n",
    "        content_tokens = tokenizer.convert_ids_to_tokens(tokenized_content['input_ids'].squeeze(0))\n",
    "\n",
    "        attentions = outputs.attentions\n",
    "        del outputs\n",
    "\n",
    "        candidates = get_candidates(pos_tagger, input_text)\n",
    "        candidates = [phrase for phrase in candidates if phrase.split(' ')[0] not in stopwords]\n",
    "        candidates_indices = {}\n",
    "        for phrase in candidates:\n",
    "            matched_indices = get_phrase_indices(content_tokens, phrase, prefix)\n",
    "            if len(matched_indices) == 0:\n",
    "                continue\n",
    "            candidates_indices[phrase] = matched_indices\n",
    "        candidates_indices = remove_repeated_sub_word(candidates_indices)\n",
    "\n",
    "        ###############################################################\n",
    "        SAM_attentions = sum(attentions)/len(attentions)\n",
    "        SAM_attentions = SAM_attentions.squeeze(0)\n",
    "        SAM_attentions =  SAM_attentions.mean(0)\n",
    "        # GLOBAL SCORE\n",
    "        att_scores = SAM_attentions.sum(0)\n",
    "        att_scores[0] = 0\n",
    "        # PROPORTIONAL SCORE\n",
    "        SAM_attentions_sum = SAM_attentions.sum(0, keepdim=True)\n",
    "        SAM_attentions_sum += 1e-10\n",
    "        SAM_attentions_norm = SAM_attentions / SAM_attentions_sum\n",
    "        SAM_attentions_norm[:,0] = 0\n",
    "        p_att_scores = SAM_attentions_norm.sum(1)\n",
    "        # FINAL SCORE = GLOBAL SCORE + PROPORTIONAL SCORE\n",
    "        att_scores = att_scores + p_att_scores\n",
    "        ###############################################################\n",
    "\n",
    "        phrase_score_dict = {}\n",
    "        for phrase in candidates_indices.keys():\n",
    "            try:\n",
    "                phrase_indices = candidates_indices[phrase]\n",
    "                if len(phrase_indices) == 0:\n",
    "                    continue\n",
    "            except KeyError:\n",
    "                continue\n",
    "\n",
    "            final_phrase_score = aggregate_phrase_scores(phrase_indices, att_scores)\n",
    "\n",
    "            if len(phrase.split()) == 1:\n",
    "                final_phrase_score = final_phrase_score / len(phrase_indices)\n",
    "            phrase_score_dict[phrase] = final_phrase_score\n",
    "\n",
    "    sorted_scores_att_o_s = sorted(phrase_score_dict.items(), key=lambda item: item[1], reverse=True)\n",
    "    stemmed_sorted_scores_att_o_s = [(\" \".join(stemmer.stem(word) for word in phrase.split()), score) for\n",
    "                                phrase, score in sorted_scores_att_o_s]\n",
    "\n",
    "    set_stemmed_scores_list_att_o_s = []\n",
    "    for phrase, score in stemmed_sorted_scores_att_o_s:\n",
    "        if phrase not in set_stemmed_scores_list_att_o_s:\n",
    "            set_stemmed_scores_list_att_o_s.append(phrase)\n",
    "\n",
    "    pred_stemmed_phrases_att_o_s = set_stemmed_scores_list_att_o_s[:15]\n",
    "    dataset_att_scores_overall.append(pred_stemmed_phrases_att_o_s)\n",
    "\n",
    "att_o_s_top3_f1_5, att_o_s_top3_f1_10, att_o_s_top3_f1_15 = evaluate_dataset(dataset_att_scores_overall, dataset, \"SAMRANK_GP\", dataset_name)"
   ]
  }
 ],
 "metadata": {
  "kernelspec": {
   "display_name": "LLM_ENV",
   "language": "python",
   "name": "python3"
  },
  "language_info": {
   "codemirror_mode": {
    "name": "ipython",
    "version": 3
   },
   "file_extension": ".py",
   "mimetype": "text/x-python",
   "name": "python",
   "nbconvert_exporter": "python",
   "pygments_lexer": "ipython3",
   "version": "3.11.9"
  }
 },
 "nbformat": 4,
 "nbformat_minor": 2
}
