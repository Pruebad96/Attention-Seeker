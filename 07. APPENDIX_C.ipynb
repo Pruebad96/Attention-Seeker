{
 "cells": [
  {
   "cell_type": "code",
   "execution_count": 1,
   "metadata": {},
   "outputs": [
    {
     "name": "stderr",
     "output_type": "stream",
     "text": [
      "c:\\Users\\user0\\anaconda3\\envs\\LLM_ENV\\Lib\\site-packages\\tqdm\\auto.py:21: TqdmWarning: IProgress not found. Please update jupyter and ipywidgets. See https://ipywidgets.readthedocs.io/en/stable/user_install.html\n",
      "  from .autonotebook import tqdm as notebook_tqdm\n"
     ]
    }
   ],
   "source": [
    "import re\n",
    "import json\n",
    "import argparse\n",
    "import os\n",
    "import sys\n",
    "import torch\n",
    "import pandas as pd\n",
    "import numpy as np\n",
    "\n",
    "from tqdm import tqdm\n",
    "from nltk.stem import PorterStemmer\n",
    "# from transformers import GPT2Tokenizer, GPT2Model\n",
    "from transformers import AutoTokenizer, AutoModelForCausalLM\n",
    "from huggingface_hub import login\n",
    "\n",
    "from swisscom_ai.research_keyphrase.preprocessing.postagging import PosTaggingCoreNLP\n",
    "from swisscom_ai.research_keyphrase.model.input_representation import InputTextObj\n",
    "from swisscom_ai.research_keyphrase.model.extractor import extract_candidates\n",
    "\n",
    "\n",
    "import matplotlib.pyplot as plt\n",
    "import seaborn as sns\n",
    "\n",
    "sns.set_theme()\n",
    "import matplotlib.font_manager as fm\n",
    "fprop = fm.FontProperties(fname='Noto_Sans_JP/NotoSansJP-Regular.otf')"
   ]
  },
  {
   "cell_type": "code",
   "execution_count": 2,
   "metadata": {},
   "outputs": [],
   "source": [
    "host = 'localhost'\n",
    "port = 9000\n",
    "pos_tagger = PosTaggingCoreNLP(host, port)\n",
    "\n",
    "# load stopwords\n",
    "stopwords = []\n",
    "with open('UGIR_stopwords.txt', \"r\") as f:\n",
    "    for line in f:\n",
    "        if line:\n",
    "            stopwords.append(line.replace('\\n', ''))\n",
    "\n",
    "stemmer = PorterStemmer()\n",
    "\n",
    "def read_jsonl(path):\n",
    "    data = []\n",
    "    with open(path, 'r') as f:\n",
    "        for line in f:\n",
    "            item = json.loads(line.strip())\n",
    "            data.append(item)\n",
    "    return data"
   ]
  },
  {
   "cell_type": "code",
   "execution_count": 3,
   "metadata": {},
   "outputs": [],
   "source": [
    "def get_candidates(core_nlp, text):\n",
    "    tagged = core_nlp.pos_tag_raw_text(text)\n",
    "    text_obj = InputTextObj(tagged, 'en')\n",
    "    candidates = extract_candidates(text_obj)\n",
    "    return candidates\n",
    "\n",
    "def get_phrase_indices(text_tokens, phrase, prefix):\n",
    "    text_tokens = [t.replace(prefix, '') for t in text_tokens]\n",
    "\n",
    "    phrase = phrase.replace(' ', '')\n",
    "\n",
    "    matched_indices = []\n",
    "    matched_index = []\n",
    "    target = phrase\n",
    "    for i in range(len(text_tokens)):\n",
    "        cur_token = text_tokens[i]\n",
    "        sub_len = min(len(cur_token), len(phrase))\n",
    "        if cur_token[:sub_len].lower() == target[:sub_len]:\n",
    "            matched_index.append(i)\n",
    "            target = target[sub_len:]\n",
    "            if len(target) == 0:\n",
    "                matched_indices.append([matched_index[0], matched_index[-1] + 1])\n",
    "                target = phrase\n",
    "        else:\n",
    "            matched_index = []\n",
    "            target = phrase\n",
    "            if cur_token[:sub_len].lower() == target[:sub_len]:\n",
    "                matched_index.append(i)\n",
    "                target = target[sub_len:]\n",
    "                if len(target) == 0:\n",
    "                    matched_indices.append([matched_index[0], matched_index[-1] + 1])\n",
    "                    target = phrase\n",
    "\n",
    "    return matched_indices\n",
    "\n",
    "def remove_repeated_sub_word(candidates_pos_dict):\n",
    "    for phrase in candidates_pos_dict.keys():\n",
    "        split_phrase = re.split(r'\\s+|-', phrase)\n",
    "        split_phrase = list(filter(None, split_phrase))\n",
    "        if len(split_phrase) > 1:\n",
    "            for word in split_phrase:\n",
    "                if word in candidates_pos_dict:\n",
    "                    single_word_positions = candidates_pos_dict[word]\n",
    "                    phrase_positions = candidates_pos_dict[phrase]\n",
    "                    single_word_alone_positions = [pos for pos in single_word_positions if not any(\n",
    "                        pos[0] >= phrase_pos[0] and pos[1] <= phrase_pos[1] for phrase_pos in phrase_positions)]\n",
    "                    candidates_pos_dict[word] = single_word_alone_positions\n",
    "\n",
    "    return candidates_pos_dict\n",
    "\n",
    "def get_all_indices(candidates_pos_dict, window_end):\n",
    "    all_indices = []\n",
    "    for phrase in candidates_pos_dict.values():\n",
    "        for element in phrase:\n",
    "            start_index = element[0]\n",
    "            end_index = element[1]\n",
    "            if(start_index>window_end):\n",
    "                all_indices.extend(range(start_index, end_index))\n",
    "    all_indices = sorted(all_indices)\n",
    "    all_indices = list(dict.fromkeys(all_indices))\n",
    "\n",
    "    return all_indices\n",
    "\n",
    "def aggregate_phrase_scores(index_list, tokens_scores):\n",
    "    total_score = 0.0\n",
    "\n",
    "    for p_index in index_list:\n",
    "        part_sum = tokens_scores[p_index[0]:p_index[1]].sum()\n",
    "        total_score += part_sum\n",
    "\n",
    "    return total_score\n",
    "\n",
    "def get_score_full(candidates, references, maxDepth=15):\n",
    "    precision = []\n",
    "    recall = []\n",
    "    reference_set = set(references)\n",
    "    referencelen = len(reference_set)\n",
    "    true_positive = 0\n",
    "    for i in range(maxDepth):\n",
    "        if len(candidates) > i:\n",
    "            kp_pred = candidates[i]\n",
    "            if kp_pred in reference_set:\n",
    "                true_positive += 1\n",
    "            precision.append(true_positive / float(i + 1))\n",
    "            recall.append(true_positive / float(referencelen))\n",
    "        else:\n",
    "            precision.append(true_positive / float(len(candidates)))\n",
    "            recall.append(true_positive / float(referencelen))\n",
    "    return precision, recall\n",
    "\n",
    "\n",
    "def evaluate_document(candidates, ground_truth):\n",
    "    results = {}\n",
    "    precision_scores, recall_scores, f1_scores = {5: [], 10: [], 15: []}, \\\n",
    "                                                 {5: [], 10: [], 15: []}, \\\n",
    "                                                 {5: [], 10: [], 15: []}\n",
    "    for candidate, gt in zip(candidates, ground_truth):\n",
    "        p, r = get_score_full(candidate, gt)\n",
    "        for i in [5, 10, 15]:\n",
    "            precision = p[i - 1]\n",
    "            recall = r[i - 1]\n",
    "            if precision + recall > 0:\n",
    "                f1_scores[i].append((2 * (precision * recall)) / (precision + recall))\n",
    "            else:\n",
    "                f1_scores[i].append(0)\n",
    "            precision_scores[i].append(precision)\n",
    "            recall_scores[i].append(recall)\n",
    "\n",
    "    print(\"########################\\nMetrics\")\n",
    "    for i in precision_scores:\n",
    "        print(\"@{}\".format(i))\n",
    "        print(\"F1:{}\".format(np.mean(f1_scores[i])))\n",
    "        print(\"P:{}\".format(np.mean(precision_scores[i])))\n",
    "        print(\"R:{}\".format(np.mean(recall_scores[i])))\n",
    "\n",
    "        top_n_p = 'precision@' + str(i)\n",
    "        top_n_r = 'recall@' + str(i)\n",
    "        top_n_f1 = 'f1@' + str(i)\n",
    "        results[top_n_p] = np.mean(precision_scores[i])\n",
    "        results[top_n_r] = np.mean(recall_scores[i])\n",
    "        results[top_n_f1] = np.mean(f1_scores[i])\n",
    "    print(\"#########################\")\n",
    "\n",
    "    return results\n",
    "\n",
    "def evaluate_dataset(predicted_top, dataset, score_type, dataset_name):\n",
    "    experiment_results = []\n",
    "    gt_keyphrase_list = []\n",
    "    predicted_keyphrase_list = []\n",
    "\n",
    "    for i in range(len(dataset)):\n",
    "        predicted_keyphrase = predicted_top[i]\n",
    "        predicted_keyphrase = [phrase.lower() for phrase in predicted_keyphrase]\n",
    "        predicted_keyphrase_list.append(predicted_keyphrase)\n",
    "\n",
    "        gt_keyphrase = [key.lower() for key in dataset[i]['keyphrases']]\n",
    "        gt_keyphrase_list.append(gt_keyphrase)\n",
    "\n",
    "    total_score = evaluate_document(predicted_keyphrase_list, gt_keyphrase_list)\n",
    "    experiment_results.append(total_score)\n",
    "\n",
    "    df = pd.DataFrame(experiment_results)\n",
    "\n",
    "    path = f'experiment_results/{dataset_name}/'\n",
    "    os.makedirs(path, exist_ok=True)\n",
    "    df.to_csv(f'{path}score_type_{score_type}.csv', index=False)\n",
    "\n",
    "    top3_f1_5 = df.nlargest(3, 'f1@5').reset_index(drop=True)\n",
    "    top3_f1_10 = df.nlargest(3, 'f1@10').reset_index(drop=True)\n",
    "    top3_f1_15 = df.nlargest(3, 'f1@15').reset_index(drop=True)\n",
    "\n",
    "    return top3_f1_5, top3_f1_10, top3_f1_15"
   ]
  },
  {
   "cell_type": "markdown",
   "metadata": {},
   "source": [
    "<img src=\"hugging_token.png\" width=1000px></img>"
   ]
  },
  {
   "cell_type": "code",
   "execution_count": 4,
   "metadata": {},
   "outputs": [
    {
     "name": "stdout",
     "output_type": "stream",
     "text": [
      "The token has not been saved to the git credentials helper. Pass `add_to_git_credential=True` in this function directly or `--add-to-git-credential` if using via `huggingface-cli` if you want to set the git credential as well.\n",
      "Token is valid (permission: read).\n",
      "Your token has been saved to C:\\Users\\user0\\.cache\\huggingface\\token\n",
      "Login successful\n"
     ]
    }
   ],
   "source": [
    "# You need to request permission to use the LLAMA 3 model with your Huggingface account\n",
    "login(token=\"YOUR_TOKEN_HERE\")"
   ]
  },
  {
   "cell_type": "code",
   "execution_count": 5,
   "metadata": {},
   "outputs": [
    {
     "name": "stderr",
     "output_type": "stream",
     "text": [
      "c:\\Users\\user0\\anaconda3\\envs\\LLM_ENV\\Lib\\site-packages\\huggingface_hub\\file_download.py:1132: FutureWarning: `resume_download` is deprecated and will be removed in version 1.0.0. Downloads always resume when possible. If you want to force a new download, use `force_download=True`.\n",
      "  warnings.warn(\n",
      "Special tokens have been added in the vocabulary, make sure the associated word embeddings are fine-tuned or trained.\n",
      "Loading checkpoint shards: 100%|██████████| 4/4 [00:10<00:00,  2.59s/it]\n",
      "c:\\Users\\user0\\anaconda3\\envs\\LLM_ENV\\Lib\\site-packages\\huggingface_hub\\file_download.py:1132: FutureWarning: `resume_download` is deprecated and will be removed in version 1.0.0. Downloads always resume when possible. If you want to force a new download, use `force_download=True`.\n",
      "  warnings.warn(\n"
     ]
    }
   ],
   "source": [
    "tokenizer = AutoTokenizer.from_pretrained(\"meta-llama/Meta-Llama-3-8B\")\n",
    "model = AutoModelForCausalLM.from_pretrained(\"meta-llama/Meta-Llama-3-8B\", attn_implementation=\"eager\", output_attentions=True)\n",
    "prefix = 'Ġ'"
   ]
  },
  {
   "cell_type": "code",
   "execution_count": 6,
   "metadata": {},
   "outputs": [
    {
     "name": "stdout",
     "output_type": "stream",
     "text": [
      "device: cuda\n"
     ]
    }
   ],
   "source": [
    "device = \"cuda\" if torch.cuda.is_available() else \"cpu\"\n",
    "print(f\"device: {device}\")"
   ]
  },
  {
   "cell_type": "markdown",
   "metadata": {},
   "source": [
    "<h2>DATASET: INSPEC</h2>"
   ]
  },
  {
   "cell_type": "code",
   "execution_count": 48,
   "metadata": {},
   "outputs": [],
   "source": [
    "dataset_name = \"inspec\"\n",
    "dataset = read_jsonl(\"KEYWORD_DATA/{}.jsonl\".format(dataset_name))"
   ]
  },
  {
   "cell_type": "markdown",
   "metadata": {},
   "source": [
    "ATTENTIONSEEKER"
   ]
  },
  {
   "cell_type": "code",
   "execution_count": 49,
   "metadata": {},
   "outputs": [
    {
     "name": "stderr",
     "output_type": "stream",
     "text": [
      "100%|██████████| 500/500 [06:14<00:00,  1.34it/s]\n"
     ]
    }
   ],
   "source": [
    "model.to(device)\n",
    "model.eval()\n",
    "\n",
    "dataset_att_scores_overall = []\n",
    "\n",
    "LH_MAP = torch.zeros(len(dataset),32,32)\n",
    "\n",
    "for i_d,data in enumerate(tqdm(dataset)):\n",
    "    with torch.no_grad():\n",
    "        input_text = data[\"text\"]\n",
    "\n",
    "        tokenized_content = tokenizer(input_text, return_tensors='pt')\n",
    "        outputs = model(**tokenized_content.to(device))\n",
    "        content_tokens = tokenizer.convert_ids_to_tokens(tokenized_content['input_ids'].squeeze(0))\n",
    "\n",
    "        all_attentions = outputs.attentions\n",
    "        del outputs\n",
    "\n",
    "        candidates = get_candidates(pos_tagger, input_text)\n",
    "        candidates = [phrase for phrase in candidates if phrase.split(' ')[0] not in stopwords]\n",
    "        candidates_indices = {}\n",
    "        for phrase in candidates:\n",
    "            matched_indices = get_phrase_indices(content_tokens, phrase, prefix)\n",
    "            if len(matched_indices) == 0:\n",
    "                continue\n",
    "            candidates_indices[phrase] = matched_indices\n",
    "        candidates_indices = remove_repeated_sub_word(candidates_indices)\n",
    "        all_indices = get_all_indices(candidates_indices,0)\n",
    "\n",
    "        ###############################################################\n",
    "        #ATTENTION-SEEKER\n",
    "        len_t_tokens = all_attentions[0].squeeze(0)[0].shape[0]\n",
    "        all_indices_tensor = torch.arange(len_t_tokens)\n",
    "        mask = torch.isin(all_indices_tensor, torch.tensor(all_indices)).to(device)\n",
    "        mask_1 = mask*1.0\n",
    "        # ATTENTION MEASSUREMENT\n",
    "        attentions = torch.zeros(len_t_tokens).to(device)\n",
    "        for layer in range(len(all_attentions)):\n",
    "            for head in range(32):\n",
    "                crrn_att_map = all_attentions[layer].squeeze(0)[head].clone()\n",
    "                crrn_att_map[~mask] = 0\n",
    "                lh_weight = torch.matmul(crrn_att_map,mask_1)\n",
    "                attentions += lh_weight.mean(0)*torch.matmul(lh_weight,crrn_att_map)\n",
    "        att_scores = attentions\n",
    "        att_scores[0] = 0\n",
    "        # LHC-SEEKER\n",
    "        f_att_scores = torch.zeros_like(att_scores)\n",
    "        f_att_scores[mask] = att_scores[mask]\n",
    "        # NEW ATTENTION MEASSUREMENT\n",
    "        attentions = torch.zeros(len_t_tokens).to(device)\n",
    "        for layer in range(len(all_attentions)):\n",
    "            for head in range(32):\n",
    "                crrn_att_map = all_attentions[layer].squeeze(0)[head].clone()\n",
    "                crrn_att_map[~mask] = 0\n",
    "                lh_weight = torch.matmul(crrn_att_map,f_att_scores)\n",
    "                attentions += lh_weight.mean(0)*torch.matmul(lh_weight,crrn_att_map)\n",
    "                LH_MAP[i_d][layer][head] = lh_weight.mean(0)\n",
    "        LH_MAP[i_d] = LH_MAP[i_d]/LH_MAP[i_d].mean()"
   ]
  },
  {
   "cell_type": "code",
   "execution_count": 9,
   "metadata": {},
   "outputs": [],
   "source": [
    "x = LH_MAP\n",
    "x_permuted = x.permute(0, 2, 1)\n",
    "result_1= x_permuted.reshape(-1, 32)"
   ]
  },
  {
   "cell_type": "code",
   "execution_count": 89,
   "metadata": {},
   "outputs": [
    {
     "data": {
      "image/png": "[encoded data removed]",
      "text/plain": [
       "<Figure size 1000x1000 with 2 Axes>"
      ]
     },
     "metadata": {},
     "output_type": "display_data"
    }
   ],
   "source": [
    "plt.close()\n",
    "fig = plt.figure(figsize=(10,10))\n",
    "ax = sns.heatmap(LH_MAP[0]/1024*100)\n",
    "ax.collections[0].colorbar.set_label('Relevance (%)', fontsize=22)\n",
    "ax.collections[0].colorbar.ax.tick_params(labelsize=16)\n",
    "ax.tick_params(axis='x', labelsize=16)\n",
    "ax.tick_params(axis='y', labelsize=16) \n",
    "ax.set_xlabel(\"# Head\", fontsize=22)\n",
    "ax.set_ylabel(\"# Layer\", fontsize=22)\n",
    "ax.set_xticks(np.arange(32), labels=np.arange(32)+1,fontproperties=fprop)\n",
    "ax.set_yticks(np.arange(32), labels=np.arange(32)+1,fontproperties=fprop)\n",
    "plt.xticks(rotation=90)\n",
    "plt.yticks(rotation=0)\n",
    "\n",
    "# Save the figure in high resolution (e.g., 300 dpi)\n",
    "plt.savefig(\"All_relevance.png\", dpi=300, bbox_inches='tight')\n",
    "plt.show()"
   ]
  },
  {
   "cell_type": "code",
   "execution_count": 105,
   "metadata": {},
   "outputs": [
    {
     "data": {
      "text/plain": [
       "tensor([27.7460, 17.8127,  9.6140, 20.1000, 21.2900, 25.0732, 29.9490, 46.4758,\n",
       "        57.0907, 54.1919, 46.9733, 49.6930, 47.5513, 62.8066, 58.2910, 47.4622,\n",
       "        47.8039, 36.3007, 22.9626, 18.0941, 19.2540, 27.4859, 23.8557, 13.5228,\n",
       "        14.5846, 15.5827, 25.0885, 19.7761, 25.6739, 20.0042, 33.2304, 38.6591])"
      ]
     },
     "execution_count": 105,
     "metadata": {},
     "output_type": "execute_result"
    }
   ],
   "source": [
    "LH_MAP[0].sum(1)"
   ]
  },
  {
   "cell_type": "code",
   "execution_count": 132,
   "metadata": {},
   "outputs": [],
   "source": [
    "s_layer = 3 #3 y 14\n",
    "with torch.no_grad():\n",
    "    input_text = dataset[0][\"text\"]\n",
    "\n",
    "    tokenized_content = tokenizer(input_text, return_tensors='pt')\n",
    "    outputs = model(**tokenized_content.to(device))\n",
    "    content_tokens = tokenizer.convert_ids_to_tokens(tokenized_content['input_ids'].squeeze(0))\n",
    "\n",
    "    attentions = outputs.attentions\n",
    "    del outputs\n",
    "\n",
    "    candidates = get_candidates(pos_tagger, input_text)\n",
    "    candidates = [phrase for phrase in candidates if phrase.split(' ')[0] not in stopwords]\n",
    "    candidates_indices = {}\n",
    "    for phrase in candidates:\n",
    "        matched_indices = get_phrase_indices(content_tokens, phrase, prefix)\n",
    "        if len(matched_indices) == 0:\n",
    "            continue\n",
    "        candidates_indices[phrase] = matched_indices\n",
    "    candidates_indices = remove_repeated_sub_word(candidates_indices)\n",
    "\n",
    "    ###############################################################\n",
    "    # ATTENTION MEASSUREMENT\n",
    "    attentions = attentions[s_layer]\n",
    "    attentions = attentions.squeeze(0)\n",
    "    att_scores = attentions.mean(0).sum(0)\n",
    "    att_scores[0] = 0\n",
    "    ###############################################################\n",
    "\n",
    "    phrase_score_dict = {}\n",
    "    for phrase in candidates_indices.keys():\n",
    "        try:\n",
    "            phrase_indices = candidates_indices[phrase]\n",
    "            if len(phrase_indices) == 0:\n",
    "                continue\n",
    "        except KeyError:\n",
    "            continue\n",
    "\n",
    "        final_phrase_score = aggregate_phrase_scores(phrase_indices, att_scores)\n",
    "\n",
    "        if len(phrase.split()) == 1:\n",
    "            final_phrase_score = final_phrase_score / len(phrase_indices)\n",
    "        phrase_score_dict[phrase] = final_phrase_score\n",
    "\n",
    "sorted_scores_att_o_s = sorted(phrase_score_dict.items(), key=lambda item: item[1], reverse=True)"
   ]
  },
  {
   "cell_type": "code",
   "execution_count": 135,
   "metadata": {},
   "outputs": [
    {
     "data": {
      "text/plain": [
       "'Strategies for high throughput, templated zeolite synthesis. The design and redesign of high throughput experiments for zeolite synthesis are addressed. A model that relates materials function to the chemical composition of the zeolite and the structure directing agent is introduced. Using this model, several Monte Carlo-like design protocols are evaluated. Multi-round protocols are bound to be effective, and strategies that use a priori information about the structure-directing libraries are found to be the best'"
      ]
     },
     "execution_count": 135,
     "metadata": {},
     "output_type": "execute_result"
    }
   ],
   "source": [
    "input_text"
   ]
  },
  {
   "cell_type": "code",
   "execution_count": 134,
   "metadata": {},
   "outputs": [],
   "source": [
    "pd.DataFrame({\"tokens\": content_tokens,\"att\": att_scores.cpu().numpy()}).to_csv(\"for_graph_1.csv\")"
   ]
  },
  {
   "cell_type": "markdown",
   "metadata": {},
   "source": [
    "<h2>DATASET: SEMEVAL 2017</h2>"
   ]
  },
  {
   "cell_type": "code",
   "execution_count": 12,
   "metadata": {},
   "outputs": [],
   "source": [
    "dataset_name = \"semeval2017\"\n",
    "dataset = read_jsonl(\"KEYWORD_DATA/{}.jsonl\".format(dataset_name))"
   ]
  },
  {
   "cell_type": "markdown",
   "metadata": {},
   "source": [
    "ATTENTIONSEEKER"
   ]
  },
  {
   "cell_type": "code",
   "execution_count": 13,
   "metadata": {},
   "outputs": [
    {
     "name": "stderr",
     "output_type": "stream",
     "text": [
      "100%|██████████| 493/493 [06:29<00:00,  1.27it/s]\n"
     ]
    }
   ],
   "source": [
    "model.to(device)\n",
    "model.eval()\n",
    "\n",
    "dataset_att_scores_overall = []\n",
    "\n",
    "LH_MAP = torch.zeros(len(dataset),32,32)\n",
    "\n",
    "for i_d,data in enumerate(tqdm(dataset)):\n",
    "    with torch.no_grad():\n",
    "        input_text = data[\"text\"]\n",
    "\n",
    "        tokenized_content = tokenizer(input_text, return_tensors='pt')\n",
    "        outputs = model(**tokenized_content.to(device))\n",
    "        content_tokens = tokenizer.convert_ids_to_tokens(tokenized_content['input_ids'].squeeze(0))\n",
    "\n",
    "        all_attentions = outputs.attentions\n",
    "        del outputs\n",
    "\n",
    "        candidates = get_candidates(pos_tagger, input_text)\n",
    "        candidates = [phrase for phrase in candidates if phrase.split(' ')[0] not in stopwords]\n",
    "        candidates_indices = {}\n",
    "        for phrase in candidates:\n",
    "            matched_indices = get_phrase_indices(content_tokens, phrase, prefix)\n",
    "            if len(matched_indices) == 0:\n",
    "                continue\n",
    "            candidates_indices[phrase] = matched_indices\n",
    "        candidates_indices = remove_repeated_sub_word(candidates_indices)\n",
    "        all_indices = get_all_indices(candidates_indices,0)\n",
    "\n",
    "        ###############################################################\n",
    "        #ATTENTION-SEEKER\n",
    "        len_t_tokens = all_attentions[0].squeeze(0)[0].shape[0]\n",
    "        all_indices_tensor = torch.arange(len_t_tokens)\n",
    "        mask = torch.isin(all_indices_tensor, torch.tensor(all_indices)).to(device)\n",
    "        mask_1 = mask*1.0\n",
    "        # ATTENTION MEASSUREMENT\n",
    "        attentions = torch.zeros(len_t_tokens).to(device)\n",
    "        for layer in range(len(all_attentions)):\n",
    "            for head in range(32):\n",
    "                crrn_att_map = all_attentions[layer].squeeze(0)[head].clone()\n",
    "                crrn_att_map[~mask] = 0\n",
    "                lh_weight = torch.matmul(crrn_att_map,mask_1)\n",
    "                attentions += lh_weight.mean(0)*torch.matmul(lh_weight,crrn_att_map)\n",
    "        att_scores = attentions\n",
    "        att_scores[0] = 0\n",
    "        # LHC-SEEKER\n",
    "        f_att_scores = torch.zeros_like(att_scores)\n",
    "        f_att_scores[mask] = att_scores[mask]\n",
    "        # NEW ATTENTION MEASSUREMENT\n",
    "        attentions = torch.zeros(len_t_tokens).to(device)\n",
    "        for layer in range(len(all_attentions)):\n",
    "            for head in range(32):\n",
    "                crrn_att_map = all_attentions[layer].squeeze(0)[head].clone()\n",
    "                crrn_att_map[~mask] = 0\n",
    "                lh_weight = torch.matmul(crrn_att_map,f_att_scores)\n",
    "                attentions += lh_weight.mean(0)*torch.matmul(lh_weight,crrn_att_map)\n",
    "                LH_MAP[i_d][layer][head] = lh_weight.mean(0)\n",
    "        LH_MAP[i_d] = LH_MAP[i_d]/LH_MAP[i_d].mean()"
   ]
  },
  {
   "cell_type": "code",
   "execution_count": 14,
   "metadata": {},
   "outputs": [],
   "source": [
    "x = LH_MAP\n",
    "x_permuted = x.permute(0, 2, 1)\n",
    "result_2 = x_permuted.reshape(-1, 32)"
   ]
  },
  {
   "cell_type": "markdown",
   "metadata": {},
   "source": [
    "<h2>DATASET: SEMEVAL 2010</h2>"
   ]
  },
  {
   "cell_type": "code",
   "execution_count": 17,
   "metadata": {},
   "outputs": [],
   "source": [
    "dataset_name = \"semeval_test\"\n",
    "dataset = read_jsonl(\"KEYWORD_DATA/{}.json\".format(dataset_name))"
   ]
  },
  {
   "cell_type": "code",
   "execution_count": 18,
   "metadata": {},
   "outputs": [
    {
     "name": "stderr",
     "output_type": "stream",
     "text": [
      "100%|██████████| 100/100 [01:18<00:00,  1.27it/s]\n"
     ]
    }
   ],
   "source": [
    "model.to(device)\n",
    "model.eval()\n",
    "\n",
    "dataset_att_scores_overall = []\n",
    "\n",
    "LH_MAP = torch.zeros(len(dataset),32,32)\n",
    "\n",
    "for i_d,data in enumerate(tqdm(dataset)):\n",
    "    with torch.no_grad():\n",
    "        input_text = data[\"title\"] + \". \" + data[\"abstract\"] \n",
    "\n",
    "        tokenized_content = tokenizer(input_text, return_tensors='pt')\n",
    "        outputs = model(**tokenized_content.to(device))\n",
    "        content_tokens = tokenizer.convert_ids_to_tokens(tokenized_content['input_ids'].squeeze(0))\n",
    "\n",
    "        all_attentions = outputs.attentions\n",
    "        del outputs\n",
    "\n",
    "        candidates = get_candidates(pos_tagger, input_text)\n",
    "        candidates = [phrase for phrase in candidates if phrase.split(' ')[0] not in stopwords]\n",
    "        candidates_indices = {}\n",
    "        for phrase in candidates:\n",
    "            matched_indices = get_phrase_indices(content_tokens, phrase, prefix)\n",
    "            if len(matched_indices) == 0:\n",
    "                continue\n",
    "            candidates_indices[phrase] = matched_indices\n",
    "        candidates_indices = remove_repeated_sub_word(candidates_indices)\n",
    "        all_indices = get_all_indices(candidates_indices,0)\n",
    "\n",
    "        ###############################################################\n",
    "        #ATTENTION-SEEKER\n",
    "        len_t_tokens = all_attentions[0].squeeze(0)[0].shape[0]\n",
    "        all_indices_tensor = torch.arange(len_t_tokens)\n",
    "        mask = torch.isin(all_indices_tensor, torch.tensor(all_indices)).to(device)\n",
    "        mask_1 = mask*1.0\n",
    "        # ATTENTION MEASSUREMENT\n",
    "        attentions = torch.zeros(len_t_tokens).to(device)\n",
    "        for layer in range(len(all_attentions)):\n",
    "            for head in range(32):\n",
    "                crrn_att_map = all_attentions[layer].squeeze(0)[head].clone()\n",
    "                crrn_att_map[~mask] = 0\n",
    "                lh_weight = torch.matmul(crrn_att_map,mask_1)\n",
    "                attentions += lh_weight.mean(0)*torch.matmul(lh_weight,crrn_att_map)\n",
    "        att_scores = attentions\n",
    "        att_scores[0] = 0\n",
    "        # LHC-SEEKER\n",
    "        f_att_scores = torch.zeros_like(att_scores)\n",
    "        f_att_scores[mask] = att_scores[mask]\n",
    "        # NEW ATTENTION MEASSUREMENT\n",
    "        attentions = torch.zeros(len_t_tokens).to(device)\n",
    "        for layer in range(len(all_attentions)):\n",
    "            for head in range(32):\n",
    "                crrn_att_map = all_attentions[layer].squeeze(0)[head].clone()\n",
    "                crrn_att_map[~mask] = 0\n",
    "                lh_weight = torch.matmul(crrn_att_map,f_att_scores)\n",
    "                attentions += lh_weight.mean(0)*torch.matmul(lh_weight,crrn_att_map)\n",
    "                LH_MAP[i_d][layer][head] = lh_weight.mean(0)\n",
    "        LH_MAP[i_d] = LH_MAP[i_d]/LH_MAP[i_d].mean()"
   ]
  },
  {
   "cell_type": "code",
   "execution_count": 19,
   "metadata": {},
   "outputs": [],
   "source": [
    "x = LH_MAP\n",
    "x_permuted = x.permute(0, 2, 1)\n",
    "result_3 = x_permuted.reshape(-1, 32)"
   ]
  },
  {
   "cell_type": "markdown",
   "metadata": {},
   "source": [
    "<h2>DATASET: KRAPIVIN</h2>"
   ]
  },
  {
   "cell_type": "code",
   "execution_count": 22,
   "metadata": {},
   "outputs": [],
   "source": [
    "dataset_name = \"krapivin_test\"\n",
    "dataset = read_jsonl(\"KEYWORD_DATA/{}.json\".format(dataset_name))"
   ]
  },
  {
   "cell_type": "code",
   "execution_count": 23,
   "metadata": {},
   "outputs": [
    {
     "name": "stderr",
     "output_type": "stream",
     "text": [
      "100%|██████████| 460/460 [05:48<00:00,  1.32it/s]\n"
     ]
    }
   ],
   "source": [
    "model.to(device)\n",
    "model.eval()\n",
    "\n",
    "dataset_att_scores_overall = []\n",
    "\n",
    "LH_MAP = torch.zeros(len(dataset),32,32)\n",
    "\n",
    "for i_d,data in enumerate(tqdm(dataset)):\n",
    "    with torch.no_grad():\n",
    "        input_text = data[\"title\"] + \" \" + data[\"abstract\"] \n",
    "\n",
    "        tokenized_content = tokenizer(input_text, return_tensors='pt')\n",
    "        outputs = model(**tokenized_content.to(device))\n",
    "        content_tokens = tokenizer.convert_ids_to_tokens(tokenized_content['input_ids'].squeeze(0))\n",
    "\n",
    "        all_attentions = outputs.attentions\n",
    "        del outputs\n",
    "\n",
    "        candidates = get_candidates(pos_tagger, input_text)\n",
    "        candidates = [phrase for phrase in candidates if phrase.split(' ')[0] not in stopwords]\n",
    "        candidates_indices = {}\n",
    "        for phrase in candidates:\n",
    "            matched_indices = get_phrase_indices(content_tokens, phrase, prefix)\n",
    "            if len(matched_indices) == 0:\n",
    "                continue\n",
    "            candidates_indices[phrase] = matched_indices\n",
    "        candidates_indices = remove_repeated_sub_word(candidates_indices)\n",
    "        all_indices = get_all_indices(candidates_indices,0)\n",
    "\n",
    "        ###############################################################\n",
    "        #ATTENTION-SEEKER\n",
    "        len_t_tokens = all_attentions[0].squeeze(0)[0].shape[0]\n",
    "        all_indices_tensor = torch.arange(len_t_tokens)\n",
    "        mask = torch.isin(all_indices_tensor, torch.tensor(all_indices)).to(device)\n",
    "        mask_1 = mask*1.0\n",
    "        # ATTENTION MEASSUREMENT\n",
    "        attentions = torch.zeros(len_t_tokens).to(device)\n",
    "        for layer in range(len(all_attentions)):\n",
    "            for head in range(32):\n",
    "                crrn_att_map = all_attentions[layer].squeeze(0)[head].clone()\n",
    "                crrn_att_map[~mask] = 0\n",
    "                lh_weight = torch.matmul(crrn_att_map,mask_1)\n",
    "                attentions += lh_weight.mean(0)*torch.matmul(lh_weight,crrn_att_map)\n",
    "        att_scores = attentions\n",
    "        att_scores[0] = 0\n",
    "        # LHC-SEEKER\n",
    "        f_att_scores = torch.zeros_like(att_scores)\n",
    "        f_att_scores[mask] = att_scores[mask]\n",
    "        # NEW ATTENTION MEASSUREMENT\n",
    "        attentions = torch.zeros(len_t_tokens).to(device)\n",
    "        for layer in range(len(all_attentions)):\n",
    "            for head in range(32):\n",
    "                crrn_att_map = all_attentions[layer].squeeze(0)[head].clone()\n",
    "                crrn_att_map[~mask] = 0\n",
    "                lh_weight = torch.matmul(crrn_att_map,f_att_scores)\n",
    "                attentions += lh_weight.mean(0)*torch.matmul(lh_weight,crrn_att_map)\n",
    "                LH_MAP[i_d][layer][head] = lh_weight.mean(0)\n",
    "        LH_MAP[i_d] = LH_MAP[i_d]/LH_MAP[i_d].mean()"
   ]
  },
  {
   "cell_type": "code",
   "execution_count": 24,
   "metadata": {},
   "outputs": [],
   "source": [
    "x = LH_MAP\n",
    "x_permuted = x.permute(0, 2, 1)\n",
    "result_4 = x_permuted.reshape(-1, 32)"
   ]
  },
  {
   "cell_type": "code",
   "execution_count": 30,
   "metadata": {},
   "outputs": [],
   "source": [
    "result = torch.concat([result_1,result_2,result_3,result_4],axis=0)"
   ]
  },
  {
   "cell_type": "code",
   "execution_count": 31,
   "metadata": {},
   "outputs": [],
   "source": [
    "means = result.mean(0)\n",
    "_, ranks = means.sort()\n",
    "ranks = ranks.argsort() \n",
    "palette = sns.color_palette(\"viridis\", as_cmap=False, n_colors=len(means))\n",
    "palette = [palette[int(rank)] for rank in ranks]  # Assign colors based on rank"
   ]
  },
  {
   "cell_type": "code",
   "execution_count": 45,
   "metadata": {},
   "outputs": [
    {
     "name": "stderr",
     "output_type": "stream",
     "text": [
      "c:\\Users\\user0\\anaconda3\\envs\\LLM_ENV\\Lib\\site-packages\\seaborn\\categorical.py:1794: FutureWarning: use_inf_as_na option is deprecated and will be removed in a future version. Convert inf values to NaN before operating instead.\n",
      "  with pd.option_context('mode.use_inf_as_na', True):\n",
      "c:\\Users\\user0\\anaconda3\\envs\\LLM_ENV\\Lib\\site-packages\\seaborn\\categorical.py:1794: FutureWarning: use_inf_as_na option is deprecated and will be removed in a future version. Convert inf values to NaN before operating instead.\n",
      "  with pd.option_context('mode.use_inf_as_na', True):\n",
      "c:\\Users\\user0\\anaconda3\\envs\\LLM_ENV\\Lib\\site-packages\\seaborn\\categorical.py:1794: FutureWarning: use_inf_as_na option is deprecated and will be removed in a future version. Convert inf values to NaN before operating instead.\n",
      "  with pd.option_context('mode.use_inf_as_na', True):\n",
      "c:\\Users\\user0\\anaconda3\\envs\\LLM_ENV\\Lib\\site-packages\\seaborn\\categorical.py:1794: FutureWarning: use_inf_as_na option is deprecated and will be removed in a future version. Convert inf values to NaN before operating instead.\n",
      "  with pd.option_context('mode.use_inf_as_na', True):\n",
      "c:\\Users\\user0\\anaconda3\\envs\\LLM_ENV\\Lib\\site-packages\\seaborn\\categorical.py:1794: FutureWarning: use_inf_as_na option is deprecated and will be removed in a future version. Convert inf values to NaN before operating instead.\n",
      "  with pd.option_context('mode.use_inf_as_na', True):\n",
      "c:\\Users\\user0\\anaconda3\\envs\\LLM_ENV\\Lib\\site-packages\\seaborn\\categorical.py:1794: FutureWarning: use_inf_as_na option is deprecated and will be removed in a future version. Convert inf values to NaN before operating instead.\n",
      "  with pd.option_context('mode.use_inf_as_na', True):\n",
      "c:\\Users\\user0\\anaconda3\\envs\\LLM_ENV\\Lib\\site-packages\\seaborn\\categorical.py:1794: FutureWarning: use_inf_as_na option is deprecated and will be removed in a future version. Convert inf values to NaN before operating instead.\n",
      "  with pd.option_context('mode.use_inf_as_na', True):\n",
      "c:\\Users\\user0\\anaconda3\\envs\\LLM_ENV\\Lib\\site-packages\\seaborn\\categorical.py:1794: FutureWarning: use_inf_as_na option is deprecated and will be removed in a future version. Convert inf values to NaN before operating instead.\n",
      "  with pd.option_context('mode.use_inf_as_na', True):\n",
      "c:\\Users\\user0\\anaconda3\\envs\\LLM_ENV\\Lib\\site-packages\\seaborn\\categorical.py:1794: FutureWarning: use_inf_as_na option is deprecated and will be removed in a future version. Convert inf values to NaN before operating instead.\n",
      "  with pd.option_context('mode.use_inf_as_na', True):\n",
      "c:\\Users\\user0\\anaconda3\\envs\\LLM_ENV\\Lib\\site-packages\\seaborn\\categorical.py:1794: FutureWarning: use_inf_as_na option is deprecated and will be removed in a future version. Convert inf values to NaN before operating instead.\n",
      "  with pd.option_context('mode.use_inf_as_na', True):\n",
      "c:\\Users\\user0\\anaconda3\\envs\\LLM_ENV\\Lib\\site-packages\\seaborn\\categorical.py:1794: FutureWarning: use_inf_as_na option is deprecated and will be removed in a future version. Convert inf values to NaN before operating instead.\n",
      "  with pd.option_context('mode.use_inf_as_na', True):\n",
      "c:\\Users\\user0\\anaconda3\\envs\\LLM_ENV\\Lib\\site-packages\\seaborn\\categorical.py:1794: FutureWarning: use_inf_as_na option is deprecated and will be removed in a future version. Convert inf values to NaN before operating instead.\n",
      "  with pd.option_context('mode.use_inf_as_na', True):\n",
      "c:\\Users\\user0\\anaconda3\\envs\\LLM_ENV\\Lib\\site-packages\\seaborn\\categorical.py:1794: FutureWarning: use_inf_as_na option is deprecated and will be removed in a future version. Convert inf values to NaN before operating instead.\n",
      "  with pd.option_context('mode.use_inf_as_na', True):\n",
      "c:\\Users\\user0\\anaconda3\\envs\\LLM_ENV\\Lib\\site-packages\\seaborn\\categorical.py:1794: FutureWarning: use_inf_as_na option is deprecated and will be removed in a future version. Convert inf values to NaN before operating instead.\n",
      "  with pd.option_context('mode.use_inf_as_na', True):\n",
      "c:\\Users\\user0\\anaconda3\\envs\\LLM_ENV\\Lib\\site-packages\\seaborn\\categorical.py:1794: FutureWarning: use_inf_as_na option is deprecated and will be removed in a future version. Convert inf values to NaN before operating instead.\n",
      "  with pd.option_context('mode.use_inf_as_na', True):\n",
      "c:\\Users\\user0\\anaconda3\\envs\\LLM_ENV\\Lib\\site-packages\\seaborn\\categorical.py:1794: FutureWarning: use_inf_as_na option is deprecated and will be removed in a future version. Convert inf values to NaN before operating instead.\n",
      "  with pd.option_context('mode.use_inf_as_na', True):\n",
      "c:\\Users\\user0\\anaconda3\\envs\\LLM_ENV\\Lib\\site-packages\\seaborn\\categorical.py:1794: FutureWarning: use_inf_as_na option is deprecated and will be removed in a future version. Convert inf values to NaN before operating instead.\n",
      "  with pd.option_context('mode.use_inf_as_na', True):\n",
      "c:\\Users\\user0\\anaconda3\\envs\\LLM_ENV\\Lib\\site-packages\\seaborn\\categorical.py:1794: FutureWarning: use_inf_as_na option is deprecated and will be removed in a future version. Convert inf values to NaN before operating instead.\n",
      "  with pd.option_context('mode.use_inf_as_na', True):\n",
      "c:\\Users\\user0\\anaconda3\\envs\\LLM_ENV\\Lib\\site-packages\\seaborn\\categorical.py:1794: FutureWarning: use_inf_as_na option is deprecated and will be removed in a future version. Convert inf values to NaN before operating instead.\n",
      "  with pd.option_context('mode.use_inf_as_na', True):\n",
      "c:\\Users\\user0\\anaconda3\\envs\\LLM_ENV\\Lib\\site-packages\\seaborn\\categorical.py:1794: FutureWarning: use_inf_as_na option is deprecated and will be removed in a future version. Convert inf values to NaN before operating instead.\n",
      "  with pd.option_context('mode.use_inf_as_na', True):\n",
      "c:\\Users\\user0\\anaconda3\\envs\\LLM_ENV\\Lib\\site-packages\\seaborn\\categorical.py:1794: FutureWarning: use_inf_as_na option is deprecated and will be removed in a future version. Convert inf values to NaN before operating instead.\n",
      "  with pd.option_context('mode.use_inf_as_na', True):\n",
      "c:\\Users\\user0\\anaconda3\\envs\\LLM_ENV\\Lib\\site-packages\\seaborn\\categorical.py:1794: FutureWarning: use_inf_as_na option is deprecated and will be removed in a future version. Convert inf values to NaN before operating instead.\n",
      "  with pd.option_context('mode.use_inf_as_na', True):\n",
      "c:\\Users\\user0\\anaconda3\\envs\\LLM_ENV\\Lib\\site-packages\\seaborn\\categorical.py:1794: FutureWarning: use_inf_as_na option is deprecated and will be removed in a future version. Convert inf values to NaN before operating instead.\n",
      "  with pd.option_context('mode.use_inf_as_na', True):\n",
      "c:\\Users\\user0\\anaconda3\\envs\\LLM_ENV\\Lib\\site-packages\\seaborn\\categorical.py:1794: FutureWarning: use_inf_as_na option is deprecated and will be removed in a future version. Convert inf values to NaN before operating instead.\n",
      "  with pd.option_context('mode.use_inf_as_na', True):\n",
      "c:\\Users\\user0\\anaconda3\\envs\\LLM_ENV\\Lib\\site-packages\\seaborn\\categorical.py:1794: FutureWarning: use_inf_as_na option is deprecated and will be removed in a future version. Convert inf values to NaN before operating instead.\n",
      "  with pd.option_context('mode.use_inf_as_na', True):\n",
      "c:\\Users\\user0\\anaconda3\\envs\\LLM_ENV\\Lib\\site-packages\\seaborn\\categorical.py:1794: FutureWarning: use_inf_as_na option is deprecated and will be removed in a future version. Convert inf values to NaN before operating instead.\n",
      "  with pd.option_context('mode.use_inf_as_na', True):\n",
      "c:\\Users\\user0\\anaconda3\\envs\\LLM_ENV\\Lib\\site-packages\\seaborn\\categorical.py:1794: FutureWarning: use_inf_as_na option is deprecated and will be removed in a future version. Convert inf values to NaN before operating instead.\n",
      "  with pd.option_context('mode.use_inf_as_na', True):\n",
      "c:\\Users\\user0\\anaconda3\\envs\\LLM_ENV\\Lib\\site-packages\\seaborn\\categorical.py:1794: FutureWarning: use_inf_as_na option is deprecated and will be removed in a future version. Convert inf values to NaN before operating instead.\n",
      "  with pd.option_context('mode.use_inf_as_na', True):\n",
      "c:\\Users\\user0\\anaconda3\\envs\\LLM_ENV\\Lib\\site-packages\\seaborn\\categorical.py:1794: FutureWarning: use_inf_as_na option is deprecated and will be removed in a future version. Convert inf values to NaN before operating instead.\n",
      "  with pd.option_context('mode.use_inf_as_na', True):\n",
      "c:\\Users\\user0\\anaconda3\\envs\\LLM_ENV\\Lib\\site-packages\\seaborn\\categorical.py:1794: FutureWarning: use_inf_as_na option is deprecated and will be removed in a future version. Convert inf values to NaN before operating instead.\n",
      "  with pd.option_context('mode.use_inf_as_na', True):\n",
      "c:\\Users\\user0\\anaconda3\\envs\\LLM_ENV\\Lib\\site-packages\\seaborn\\categorical.py:1794: FutureWarning: use_inf_as_na option is deprecated and will be removed in a future version. Convert inf values to NaN before operating instead.\n",
      "  with pd.option_context('mode.use_inf_as_na', True):\n",
      "c:\\Users\\user0\\anaconda3\\envs\\LLM_ENV\\Lib\\site-packages\\seaborn\\categorical.py:1794: FutureWarning: use_inf_as_na option is deprecated and will be removed in a future version. Convert inf values to NaN before operating instead.\n",
      "  with pd.option_context('mode.use_inf_as_na', True):\n"
     ]
    },
    {
     "data": {
      "image/png": "[encoded data removed]",
      "text/plain": [
       "<Figure size 2500x800 with 1 Axes>"
      ]
     },
     "metadata": {},
     "output_type": "display_data"
    }
   ],
   "source": [
    "plt.close()\n",
    "fig = plt.figure(figsize=(25,8))\n",
    "ax = sns.boxenplot(data=result/1024*100*32, \n",
    "              k_depth=\"proportion\", outlier_prop=0.05,\n",
    "              linewidth=.4,\n",
    "              line_kws=dict(linewidth=1.5, color=\"red\"),\n",
    "              flier_kws=dict(facecolor=\".7\", linewidth=.5),\n",
    "              palette=palette,\n",
    "              showfliers=False)\n",
    "ax.axhline(y=3.125, color='red', linestyle='--', linewidth=1)\n",
    "ax.set_xticks(np.arange(32), labels=np.arange(32)+1,fontproperties=fprop)\n",
    "ax.tick_params(axis='x', labelsize=22)\n",
    "ax.tick_params(axis='y', labelsize=22) \n",
    "ax.set_xlabel(\"# Layer\", fontsize=26)\n",
    "ax.set_ylabel(\"Relevance (%)\", fontsize=26)\n",
    "\n",
    "# Save the figure in high resolution (e.g., 300 dpi)\n",
    "plt.savefig(\"All_relevance.png\", dpi=300, bbox_inches='tight')\n",
    "plt.show()"
   ]
  }
 ],
 "metadata": {
  "kernelspec": {
   "display_name": "LLM_ENV",
   "language": "python",
   "name": "python3"
  },
  "language_info": {
   "codemirror_mode": {
    "name": "ipython",
    "version": 3
   },
   "file_extension": ".py",
   "mimetype": "text/x-python",
   "name": "python",
   "nbconvert_exporter": "python",
   "pygments_lexer": "ipython3",
   "version": "3.11.9"
  }
 },
 "nbformat": 4,
 "nbformat_minor": 2
}
